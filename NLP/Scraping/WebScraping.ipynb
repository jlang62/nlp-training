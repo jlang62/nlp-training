{
 "cells": [
  {
   "cell_type": "code",
   "execution_count": 6,
   "metadata": {},
   "outputs": [],
   "source": [
    "import pandas as pd\n",
    "import numpy as np\n",
    "import requests\n",
    "from bs4 import BeautifulSoup\n",
    "import re"
   ]
  },
  {
   "cell_type": "code",
   "execution_count": 54,
   "metadata": {},
   "outputs": [],
   "source": [
    "# initialize the empty dataframe\n",
    "df = pd.DataFrame(columns=['URL', 'Heading', 'SubHeadings', 'Content'])"
   ]
  },
  {
   "cell_type": "code",
   "execution_count": 7,
   "metadata": {},
   "outputs": [
    {
     "name": "stdout",
     "output_type": "stream",
     "text": [
      "/news/live/world-middle-east-67339462\n",
      "/news/live/world-middle-east-67339462\n",
      "/news/world-middle-east-67339008\n",
      "/news/world-europe-67342367\n",
      "/news/science-environment-67343374\n",
      "/news/world-europe-67346780\n",
      "/news/world-us-canada-67346904\n",
      "/sport/football/67343050\n",
      "/news/world-middle-east-67321241\n",
      "/sport/athletics/67336536\n",
      "/news/world-africa-67342882\n",
      "/news/world-africa-67342714\n",
      "/news/world-africa-67342882\n",
      "/news/world-africa-67342714\n",
      "/news/world-europe-67343002\n",
      "/news/world-asia-china-67341196\n",
      "/news/business-67343893\n"
     ]
    }
   ],
   "source": [
    "# https://www.bbc.com/news\n",
    "res = requests.get('https://www.bbc.com/news')\n",
    "\n",
    "# Check if the request was successful\n",
    "if res.status_code == 200:\n",
    "    # Parse the HTML content of the page\n",
    "    soup_data = BeautifulSoup(res.text, 'html.parser')\n",
    "\n",
    "    # Find the parent div with class 'nw-c-top-stories--international'\n",
    "    top_stories_div = soup_data.find('div', class_='nw-c-top-stories--international')\n",
    "\n",
    "    # Check if the 'nw-c-top-stories--international' div was found\n",
    "    if top_stories_div:\n",
    "        # Find all <a> tags within the 'top_stories_div' with a class containing 'gs-c-promo-heading'\n",
    "        promo_headings = top_stories_div.find_all('a', class_=lambda x: x and 'gs-c-promo-heading' in x)\n",
    "\n",
    "        # Extract the links from the promo_headings\n",
    "        links = [heading['href'] for heading in promo_headings]\n",
    "\n",
    "        # Print the links\n",
    "        for link in links:\n",
    "            print(link)\n",
    "    else:\n",
    "        print(\"The 'nw-c-top-stories--international' div was not found on the page.\")\n",
    "else:\n",
    "    print(\"Failed to retrieve the page. Status code:\", res.status_code)\n"
   ]
  },
  {
   "cell_type": "code",
   "execution_count": 8,
   "metadata": {},
   "outputs": [
    {
     "data": {
      "text/plain": [
       "17"
      ]
     },
     "execution_count": 8,
     "metadata": {},
     "output_type": "execute_result"
    }
   ],
   "source": [
    "len(links)"
   ]
  },
  {
   "cell_type": "code",
   "execution_count": 55,
   "metadata": {},
   "outputs": [
    {
     "data": {
      "text/plain": [
       "['/news/world-europe-67342367',\n",
       " '/news/world-africa-67342714',\n",
       " '/sport/football/67343050',\n",
       " '/news/world-europe-67343002',\n",
       " '/news/world-europe-67346780',\n",
       " '/news/world-middle-east-67321241',\n",
       " '/news/science-environment-67343374',\n",
       " '/news/world-africa-67342882',\n",
       " '/sport/athletics/67336536',\n",
       " '/news/world-asia-china-67341196',\n",
       " '/news/business-67343893',\n",
       " '/news/world-middle-east-67339008',\n",
       " '/news/world-us-canada-67346904']"
      ]
     },
     "execution_count": 55,
     "metadata": {},
     "output_type": "execute_result"
    }
   ],
   "source": [
    "# drop duplicates\n",
    "links = list(set(links))\n",
    "links = [link for link in links if 'live' not in link]\n",
    "links"
   ]
  },
  {
   "cell_type": "code",
   "execution_count": 56,
   "metadata": {},
   "outputs": [
    {
     "data": {
      "text/html": [
       "<div>\n",
       "<style scoped>\n",
       "    .dataframe tbody tr th:only-of-type {\n",
       "        vertical-align: middle;\n",
       "    }\n",
       "\n",
       "    .dataframe tbody tr th {\n",
       "        vertical-align: top;\n",
       "    }\n",
       "\n",
       "    .dataframe thead th {\n",
       "        text-align: right;\n",
       "    }\n",
       "</style>\n",
       "<table border=\"1\" class=\"dataframe\">\n",
       "  <thead>\n",
       "    <tr style=\"text-align: right;\">\n",
       "      <th></th>\n",
       "      <th>URL</th>\n",
       "      <th>Heading</th>\n",
       "      <th>SubHeadings</th>\n",
       "      <th>Content</th>\n",
       "    </tr>\n",
       "  </thead>\n",
       "  <tbody>\n",
       "    <tr>\n",
       "      <th>0</th>\n",
       "      <td>/news/world-europe-67342367</td>\n",
       "      <td>NaN</td>\n",
       "      <td>NaN</td>\n",
       "      <td>NaN</td>\n",
       "    </tr>\n",
       "    <tr>\n",
       "      <th>1</th>\n",
       "      <td>/news/world-africa-67342714</td>\n",
       "      <td>NaN</td>\n",
       "      <td>NaN</td>\n",
       "      <td>NaN</td>\n",
       "    </tr>\n",
       "    <tr>\n",
       "      <th>2</th>\n",
       "      <td>/sport/football/67343050</td>\n",
       "      <td>NaN</td>\n",
       "      <td>NaN</td>\n",
       "      <td>NaN</td>\n",
       "    </tr>\n",
       "    <tr>\n",
       "      <th>3</th>\n",
       "      <td>/news/world-europe-67343002</td>\n",
       "      <td>NaN</td>\n",
       "      <td>NaN</td>\n",
       "      <td>NaN</td>\n",
       "    </tr>\n",
       "    <tr>\n",
       "      <th>4</th>\n",
       "      <td>/news/world-europe-67346780</td>\n",
       "      <td>NaN</td>\n",
       "      <td>NaN</td>\n",
       "      <td>NaN</td>\n",
       "    </tr>\n",
       "  </tbody>\n",
       "</table>\n",
       "</div>"
      ],
      "text/plain": [
       "                           URL Heading SubHeadings Content\n",
       "0  /news/world-europe-67342367     NaN         NaN     NaN\n",
       "1  /news/world-africa-67342714     NaN         NaN     NaN\n",
       "2     /sport/football/67343050     NaN         NaN     NaN\n",
       "3  /news/world-europe-67343002     NaN         NaN     NaN\n",
       "4  /news/world-europe-67346780     NaN         NaN     NaN"
      ]
     },
     "execution_count": 56,
     "metadata": {},
     "output_type": "execute_result"
    }
   ],
   "source": [
    "# assign the links to the dataframe\n",
    "df['URL'] = links\n",
    "df.head()"
   ]
  },
  {
   "cell_type": "code",
   "execution_count": 57,
   "metadata": {},
   "outputs": [],
   "source": [
    "MAIN_URL = 'https://www.bbc.com'"
   ]
  },
  {
   "cell_type": "code",
   "execution_count": 121,
   "metadata": {},
   "outputs": [],
   "source": [
    "def requestArticle(idx, url):\n",
    "    url_to_fetch = MAIN_URL + url\n",
    "\n",
    "    # Send an HTTP GET request to the specified URL\n",
    "    res = requests.get(url_to_fetch)\n",
    "\n",
    "    # Check if the request was successful\n",
    "    if res.status_code == 200:\n",
    "        # Parse the HTML content of the page\n",
    "        soup_data = BeautifulSoup(res.text, 'html.parser')\n",
    "\n",
    "        # Find the <article> tag and get all elements inside it\n",
    "        article = soup_data.find('article')\n",
    "\n",
    "        if article:\n",
    "            # Find all elements (tags) inside the <article> tag\n",
    "            article_elements = article.find_all()\n",
    "            \n",
    "            # Extract the heading\n",
    "            heading = article.find('h1').text\n",
    "            # print(\"Heading\")\n",
    "            # print(heading)\n",
    "\n",
    "            # Extract the subheadings\n",
    "            # get headlines with data-component=\"subheadline-block\"\n",
    "            subheadings = article.find_all('div', attrs={'data-component': 'subheadline-block'})\n",
    "            subheadings = [subheading for subheading in subheadings if 'You may also be interested in:' not in subheading.text]\n",
    "            subheadings = [subheading.text for subheading in subheadings]\n",
    "            subheadings = (', ').join(subheadings)\n",
    "            # print(\"SubHeading\")\n",
    "            # print(subheadings)\n",
    "\n",
    "\n",
    "            # Extract the content\n",
    "            content = '\\n'.join([element.text for element in article_elements if element.name == 'p'])\n",
    "            # print(\"Content\")\n",
    "            # print(content)\n",
    "\n",
    "            # Update the dataframe\n",
    "            df.loc[idx, 'Heading'] = heading\n",
    "            df.loc[idx, 'SubHeadings'] = subheadings\n",
    "            df.loc[idx, 'Content'] = content\n",
    "\n",
    "        else:\n",
    "            print(\"No <article> tag found on the page.\")\n",
    "\n",
    "    else:\n",
    "        print(\"Failed to retrieve the page. Status code:\", res.status_code)\n"
   ]
  },
  {
   "cell_type": "code",
   "execution_count": 122,
   "metadata": {},
   "outputs": [],
   "source": [
    "# Loop through the links and request each article\n",
    "for idx, link in enumerate(links):\n",
    "    requestArticle(idx, link)"
   ]
  },
  {
   "cell_type": "code",
   "execution_count": 126,
   "metadata": {},
   "outputs": [
    {
     "data": {
      "text/html": [
       "<div>\n",
       "<style scoped>\n",
       "    .dataframe tbody tr th:only-of-type {\n",
       "        vertical-align: middle;\n",
       "    }\n",
       "\n",
       "    .dataframe tbody tr th {\n",
       "        vertical-align: top;\n",
       "    }\n",
       "\n",
       "    .dataframe thead th {\n",
       "        text-align: right;\n",
       "    }\n",
       "</style>\n",
       "<table border=\"1\" class=\"dataframe\">\n",
       "  <thead>\n",
       "    <tr style=\"text-align: right;\">\n",
       "      <th></th>\n",
       "      <th>URL</th>\n",
       "      <th>Heading</th>\n",
       "      <th>SubHeadings</th>\n",
       "      <th>Content</th>\n",
       "    </tr>\n",
       "  </thead>\n",
       "  <tbody>\n",
       "    <tr>\n",
       "      <th>0</th>\n",
       "      <td>/news/world-europe-67342367</td>\n",
       "      <td>Ukraine war: Grenade birthday gift kills army ...</td>\n",
       "      <td></td>\n",
       "      <td>A grenade given as a birthday present has blow...</td>\n",
       "    </tr>\n",
       "    <tr>\n",
       "      <th>1</th>\n",
       "      <td>/news/world-africa-67342714</td>\n",
       "      <td>Mr Ibu: Nigerian Nollywood actor's leg amputat...</td>\n",
       "      <td></td>\n",
       "      <td>Family members of popular Nigerian comic actor...</td>\n",
       "    </tr>\n",
       "    <tr>\n",
       "      <th>2</th>\n",
       "      <td>/sport/football/67343050</td>\n",
       "      <td>Ukraine: Dnipro-1 and FC Oleksandriya play ‘lo...</td>\n",
       "      <td></td>\n",
       "      <td>Last updated on 3 hours ago3 hours ago.From th...</td>\n",
       "    </tr>\n",
       "    <tr>\n",
       "      <th>3</th>\n",
       "      <td>/news/world-europe-67343002</td>\n",
       "      <td>Germany agrees to consider UK-style plan on pr...</td>\n",
       "      <td></td>\n",
       "      <td>German Chancellor Olaf Scholz has pledged to \"...</td>\n",
       "    </tr>\n",
       "    <tr>\n",
       "      <th>4</th>\n",
       "      <td>/news/world-europe-67346780</td>\n",
       "      <td>Portuguese PM AntÃ³nio Costa resigns over lith...</td>\n",
       "      <td></td>\n",
       "      <td>Portuguese Prime Minister AntÃ³nio Costa says ...</td>\n",
       "    </tr>\n",
       "  </tbody>\n",
       "</table>\n",
       "</div>"
      ],
      "text/plain": [
       "                           URL  \\\n",
       "0  /news/world-europe-67342367   \n",
       "1  /news/world-africa-67342714   \n",
       "2     /sport/football/67343050   \n",
       "3  /news/world-europe-67343002   \n",
       "4  /news/world-europe-67346780   \n",
       "\n",
       "                                             Heading SubHeadings  \\\n",
       "0  Ukraine war: Grenade birthday gift kills army ...               \n",
       "1  Mr Ibu: Nigerian Nollywood actor's leg amputat...               \n",
       "2  Ukraine: Dnipro-1 and FC Oleksandriya play ‘lo...               \n",
       "3  Germany agrees to consider UK-style plan on pr...               \n",
       "4  Portuguese PM AntÃ³nio Costa resigns over lith...               \n",
       "\n",
       "                                             Content  \n",
       "0  A grenade given as a birthday present has blow...  \n",
       "1  Family members of popular Nigerian comic actor...  \n",
       "2  Last updated on 3 hours ago3 hours ago.From th...  \n",
       "3  German Chancellor Olaf Scholz has pledged to \"...  \n",
       "4  Portuguese Prime Minister AntÃ³nio Costa says ...  "
      ]
     },
     "execution_count": 126,
     "metadata": {},
     "output_type": "execute_result"
    }
   ],
   "source": [
    "df.head()"
   ]
  },
  {
   "cell_type": "code",
   "execution_count": null,
   "metadata": {},
   "outputs": [],
   "source": []
  }
 ],
 "metadata": {
  "kernelspec": {
   "display_name": "base",
   "language": "python",
   "name": "python3"
  },
  "language_info": {
   "codemirror_mode": {
    "name": "ipython",
    "version": 3
   },
   "file_extension": ".py",
   "mimetype": "text/x-python",
   "name": "python",
   "nbconvert_exporter": "python",
   "pygments_lexer": "ipython3",
   "version": "3.11.4"
  }
 },
 "nbformat": 4,
 "nbformat_minor": 2
}

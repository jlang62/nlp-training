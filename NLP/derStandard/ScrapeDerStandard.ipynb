{
 "cells": [
  {
   "cell_type": "code",
   "execution_count": 1,
   "metadata": {},
   "outputs": [],
   "source": [
    "import pandas as pd\n",
    "import numpy as np\n",
    "import matplotlib.pyplot as plt\n",
    "%matplotlib inline\n",
    "import requests\n",
    "from bs4 import BeautifulSoup\n",
    "import re\n",
    "\n",
    "from wordcloud import WordCloud\n",
    "\n",
    "# stopwords\n",
    "import nltk\n",
    "stop_words = nltk.corpus.stopwords.words('english')\n",
    "from nltk.tokenize import word_tokenize\n",
    "\n",
    "from sklearn.feature_extraction.text import TfidfVectorizer, CountVectorizer\n",
    "\n",
    "from datetime import datetime"
   ]
  },
  {
   "cell_type": "code",
   "execution_count": 2,
   "metadata": {},
   "outputs": [
    {
     "data": {
      "text/plain": [
       "['1970/01/01',\n",
       " '1970/01/02',\n",
       " '1970/01/03',\n",
       " '1970/01/04',\n",
       " '1970/01/05',\n",
       " '1970/01/06',\n",
       " '1970/01/07',\n",
       " '1970/01/08',\n",
       " '1970/01/09',\n",
       " '1970/01/10']"
      ]
     },
     "execution_count": 2,
     "metadata": {},
     "output_type": "execute_result"
    }
   ],
   "source": [
    "import datetime\n",
    "\n",
    "start_date = datetime.datetime.strptime(\"1970/01/01\", \"%Y/%m/%d\")\n",
    "end_date = datetime.datetime.today()\n",
    "date_generated = [start_date + datetime.timedelta(days=x) for x in range(0, (end_date-start_date).days)]\n",
    "\n",
    "# create a list of dates in this format \"1998/12/19\", from 1970/01/01 to today\n",
    "dates = []\n",
    "for date in date_generated:\n",
    "    dates.append(date.strftime(\"%Y/%m/%d\"))\n",
    "\n",
    "dates[:10]\n"
   ]
  },
  {
   "cell_type": "code",
   "execution_count": 23,
   "metadata": {},
   "outputs": [],
   "source": [
    "def filterDates(dates):\n",
    "    for date in dates:\n",
    "        url = \"https://www.derstandard.at/frontpage/\" + date\n",
    "        response = requests.get(url)\n",
    "        print(response.status_code)\n",
    "        if response.status_code != 200:\n",
    "            # delete the date from the list if there is no archive for that date\n",
    "            dates.remove(date)\n",
    "            print(\"No archive for date: \" + date)\n",
    "        else:\n",
    "            print(\"Archive for date: \" + date)"
   ]
  },
  {
   "cell_type": "code",
   "execution_count": 24,
   "metadata": {},
   "outputs": [
    {
     "name": "stdout",
     "output_type": "stream",
     "text": [
      "200\n",
      "Archive for date: 1970/01/01\n",
      "200\n",
      "Archive for date: 1970/01/02\n",
      "200\n",
      "Archive for date: 1970/01/03\n",
      "200\n",
      "Archive for date: 1970/01/04\n",
      "200\n",
      "Archive for date: 1970/01/05\n",
      "200\n",
      "Archive for date: 1970/01/06\n",
      "200\n",
      "Archive for date: 1970/01/07\n",
      "200\n",
      "Archive for date: 1970/01/08\n",
      "200\n",
      "Archive for date: 1970/01/09\n",
      "200\n",
      "Archive for date: 1970/01/10\n"
     ]
    }
   ],
   "source": [
    "filterDates(dates[:10])"
   ]
  },
  {
   "cell_type": "code",
   "execution_count": null,
   "metadata": {},
   "outputs": [],
   "source": [
    "def get_archive_links(dates):\n",
    "    \"\"\"\n",
    "    Get all links to the archive of Der Standard for a given list of dates.\n",
    "    \"\"\"\n",
    "    links = []\n",
    "    for date in dates:\n",
    "        url = \"https://derstandard.at/archiv/\" + date\n",
    "        response = requests.get(url)\n",
    "        soup = BeautifulSoup(response.content, \"html.parser\")\n",
    "        for link in soup.find_all(\"a\", href=re.compile(\"https://derstandard.at/archiv/\")):\n",
    "            links.append(link.get(\"href\"))\n",
    "    return links"
   ]
  },
  {
   "cell_type": "code",
   "execution_count": null,
   "metadata": {},
   "outputs": [],
   "source": []
  }
 ],
 "metadata": {
  "kernelspec": {
   "display_name": "base",
   "language": "python",
   "name": "python3"
  },
  "language_info": {
   "codemirror_mode": {
    "name": "ipython",
    "version": 3
   },
   "file_extension": ".py",
   "mimetype": "text/x-python",
   "name": "python",
   "nbconvert_exporter": "python",
   "pygments_lexer": "ipython3",
   "version": "3.11.4"
  }
 },
 "nbformat": 4,
 "nbformat_minor": 2
}
